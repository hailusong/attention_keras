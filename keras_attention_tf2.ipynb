{
  "nbformat": 4,
  "nbformat_minor": 0,
  "metadata": {
    "colab": {
      "name": "keras-attention-tf2.ipynb",
      "version": "0.3.2",
      "provenance": [],
      "include_colab_link": true
    },
    "kernelspec": {
      "name": "python3",
      "display_name": "Python 3"
    },
    "accelerator": "GPU"
  },
  "cells": [
    {
      "cell_type": "markdown",
      "metadata": {
        "id": "view-in-github",
        "colab_type": "text"
      },
      "source": [
        "<a href=\"https://colab.research.google.com/github/hailusong/attention_keras/blob/master/keras_attention_tf2.ipynb\" target=\"_parent\"><img src=\"https://colab.research.google.com/assets/colab-badge.svg\" alt=\"Open In Colab\"/></a>"
      ]
    },
    {
      "metadata": {
        "id": "579MNSU4tYnY",
        "colab_type": "text"
      },
      "cell_type": "markdown",
      "source": [
        "# [Keras Attention Layer](https://github.com/thushv89/attention_keras) Testing"
      ]
    },
    {
      "metadata": {
        "id": "HQxqenORGUPa",
        "colab_type": "code",
        "colab": {}
      },
      "cell_type": "code",
      "source": [
        "%matplotlib inline"
      ],
      "execution_count": 0,
      "outputs": []
    },
    {
      "metadata": {
        "id": "Bw3vlh8Atg0Z",
        "colab_type": "text"
      },
      "cell_type": "markdown",
      "source": [
        "## Environment Setup"
      ]
    },
    {
      "metadata": {
        "id": "__IyRuCXuhnx",
        "colab_type": "code",
        "colab": {}
      },
      "cell_type": "code",
      "source": [
        "DEFAULT_HOME='/content'\n",
        "TF_RT_VERSION='1.13'\n",
        "PYTHON_VERSION='3.5'\n",
        "\n",
        "YOUR_GCS_BUCKET='id-norm'\n",
        "YOUR_PROJECT='orbital-purpose-130316'"
      ],
      "execution_count": 0,
      "outputs": []
    },
    {
      "metadata": {
        "id": "DYpq16Lm8w2f",
        "colab_type": "code",
        "outputId": "2812bf9a-a846-4dfd-dda8-3ee6edeeaffd",
        "colab": {
          "base_uri": "https://localhost:8080/",
          "height": 238
        }
      },
      "cell_type": "code",
      "source": [
        "!python -V\n",
        "!ipython --version\n",
        "!pip show prompt_toolkit\n",
        "!protoc --version"
      ],
      "execution_count": 2,
      "outputs": [
        {
          "output_type": "stream",
          "text": [
            "Python 3.6.7\n",
            "5.5.0\n",
            "Name: prompt-toolkit\n",
            "Version: 1.0.15\n",
            "Summary: Library for building powerful interactive command lines in Python\n",
            "Home-page: https://github.com/jonathanslenders/python-prompt-toolkit\n",
            "Author: Jonathan Slenders\n",
            "Author-email: UNKNOWN\n",
            "License: UNKNOWN\n",
            "Location: /usr/local/lib/python3.6/dist-packages\n",
            "Requires: six, wcwidth\n",
            "Required-by: jupyter-console, ipython\n",
            "libprotoc 3.0.0\n"
          ],
          "name": "stdout"
        }
      ]
    },
    {
      "metadata": {
        "id": "y3ihCnk6-AhM",
        "colab_type": "code",
        "outputId": "465a1270-b099-4575-cdaf-a42022068ddd",
        "colab": {
          "base_uri": "https://localhost:8080/",
          "height": 34
        }
      },
      "cell_type": "code",
      "source": [
        "import tensorflow as tf\n",
        "print(tf.__version__)"
      ],
      "execution_count": 3,
      "outputs": [
        {
          "output_type": "stream",
          "text": [
            "1.13.1\n"
          ],
          "name": "stdout"
        }
      ]
    },
    {
      "metadata": {
        "id": "j-RzJcBrteia",
        "colab_type": "code",
        "outputId": "dde6076b-6bdb-487b-a211-29e35a846a31",
        "colab": {
          "base_uri": "https://localhost:8080/",
          "height": 119
        }
      },
      "cell_type": "code",
      "source": [
        "# download the Keras Attention Implementation\n",
        "![ -e {DEFAULT_HOME}/attention_keras ] && rm -rf {DEFAULT_HOME}/attention_keras\n",
        "!git clone --depth 1 https://github.com/hailusong/attention_keras.git"
      ],
      "execution_count": 4,
      "outputs": [
        {
          "output_type": "stream",
          "text": [
            "Cloning into 'attention_keras'...\n",
            "remote: Enumerating objects: 17, done.\u001b[K\n",
            "remote: Counting objects: 100% (17/17), done.\u001b[K\n",
            "remote: Compressing objects: 100% (12/12), done.\u001b[K\n",
            "remote: Total 17 (delta 1), reused 13 (delta 1), pack-reused 0\u001b[K\n",
            "Unpacking objects: 100% (17/17), done.\n"
          ],
          "name": "stdout"
        }
      ]
    },
    {
      "metadata": {
        "id": "lSlKZ7b_9S9l",
        "colab_type": "code",
        "outputId": "47ff4e26-27d3-4174-bc8f-2b4278f57301",
        "colab": {
          "base_uri": "https://localhost:8080/",
          "height": 136
        }
      },
      "cell_type": "code",
      "source": [
        "!cat {DEFAULT_HOME}/attention_keras/layers/__init__.py"
      ],
      "execution_count": 5,
      "outputs": [
        {
          "output_type": "stream",
          "text": [
            "# expose everything in attention.py directly\n",
            "# so the consumer doens't need to do\n",
            "#     from attention_keras.layers.attention import AttentionLayer\n",
            "# instead they can do\n",
            "#     from attention_keras.layers import AttentionLayer\n",
            "from .attention import *\n",
            "\n"
          ],
          "name": "stdout"
        }
      ]
    },
    {
      "metadata": {
        "id": "Mm-5FPdhxH1i",
        "colab_type": "text"
      },
      "cell_type": "markdown",
      "source": [
        "### Data Setup"
      ]
    },
    {
      "metadata": {
        "id": "xonFGXsktBxG",
        "colab_type": "code",
        "colab": {}
      },
      "cell_type": "code",
      "source": [
        "!mkdir -p data\n",
        "!wget -q -O {DEFAULT_HOME}/attention_keras/data/small_vocab_en.txt https://github.com/udacity/deep-learning/blob/master/language-translation/data/small_vocab_en?raw=true\n",
        "!wget -q -O {DEFAULT_HOME}/attention_keras/data/small_vocab_fr.txt https://github.com/udacity/deep-learning/blob/master/language-translation/data/small_vocab_fr?raw=true "
      ],
      "execution_count": 0,
      "outputs": []
    },
    {
      "metadata": {
        "id": "BEOeKXhs_gDM",
        "colab_type": "code",
        "outputId": "c098a7ca-e2a6-4117-fa63-1d94ee928f51",
        "colab": {
          "base_uri": "https://localhost:8080/",
          "height": 408
        }
      },
      "cell_type": "code",
      "source": [
        "!head {DEFAULT_HOME}/attention_keras/data/small_vocab_en.txt {DEFAULT_HOME}/attention_keras/data/small_vocab_fr.txt"
      ],
      "execution_count": 7,
      "outputs": [
        {
          "output_type": "stream",
          "text": [
            "==> /content/attention_keras/data/small_vocab_en.txt <==\n",
            "new jersey is sometimes quiet during autumn , and it is snowy in april .\n",
            "the united states is usually chilly during july , and it is usually freezing in november .\n",
            "california is usually quiet during march , and it is usually hot in june .\n",
            "the united states is sometimes mild during june , and it is cold in september .\n",
            "your least liked fruit is the grape , but my least liked is the apple .\n",
            "his favorite fruit is the orange , but my favorite is the grape .\n",
            "paris is relaxing during december , but it is usually chilly in july .\n",
            "new jersey is busy during spring , and it is never hot in march .\n",
            "our least liked fruit is the lemon , but my least liked is the grape .\n",
            "the united states is sometimes busy during january , and it is sometimes warm in november .\n",
            "\n",
            "==> /content/attention_keras/data/small_vocab_fr.txt <==\n",
            "new jersey est parfois calme pendant l' automne , et il est neigeux en avril .\n",
            "les états-unis est généralement froid en juillet , et il gèle habituellement en novembre .\n",
            "california est généralement calme en mars , et il est généralement chaud en juin .\n",
            "les états-unis est parfois légère en juin , et il fait froid en septembre .\n",
            "votre moins aimé fruit est le raisin , mais mon moins aimé est la pomme .\n",
            "son fruit préféré est l'orange , mais mon préféré est le raisin .\n",
            "paris est relaxant en décembre , mais il est généralement froid en juillet .\n",
            "new jersey est occupé au printemps , et il est jamais chaude en mars .\n",
            "notre fruit est moins aimé le citron , mais mon moins aimé est le raisin .\n",
            "les états-unis est parfois occupé en janvier , et il est parfois chaud en novembre .\n"
          ],
          "name": "stdout"
        }
      ]
    },
    {
      "metadata": {
        "id": "ZQf19PPsw9jS",
        "colab_type": "text"
      },
      "cell_type": "markdown",
      "source": [
        "## Start Train"
      ]
    },
    {
      "metadata": {
        "id": "VCn7qYd_w-jj",
        "colab_type": "code",
        "colab": {}
      },
      "cell_type": "code",
      "source": [
        "from attention_keras.layers import AttentionLayer\n",
        "\n",
        "# attn_layer = AttentionLayer(name='attention_layer')\n",
        "# attn_out, attn_states = attn_layer([encoder_outputs, decoder_outputs])"
      ],
      "execution_count": 0,
      "outputs": []
    },
    {
      "metadata": {
        "id": "XODFdjhaxfaO",
        "colab_type": "code",
        "outputId": "8ab97679-4230-41c6-cfc8-0c4374f1a418",
        "colab": {
          "base_uri": "https://localhost:8080/",
          "height": 853
        }
      },
      "cell_type": "code",
      "source": [
        "%run attention_keras/model/train_nmt.py"
      ],
      "execution_count": 9,
      "outputs": [
        {
          "output_type": "stream",
          "text": [
            "Length of text: 137860\n",
            "Vocabulary size (English): 201\n",
            "Vocabulary size (French): 345\n",
            "En text shape: (100000, 20)\n",
            "Fr text shape: (100000, 20)\n",
            "WARNING:tensorflow:From /usr/local/lib/python3.6/dist-packages/tensorflow/python/ops/resource_variable_ops.py:435: colocate_with (from tensorflow.python.framework.ops) is deprecated and will be removed in a future version.\n",
            "Instructions for updating:\n",
            "Colocations handled automatically by placer.\n",
            "__________________________________________________________________________________________________\n",
            "Layer (type)                    Output Shape         Param #     Connected to                     \n",
            "==================================================================================================\n",
            "encoder_inputs (InputLayer)     (64, 20, 201)        0                                            \n",
            "__________________________________________________________________________________________________\n",
            "decoder_inputs (InputLayer)     (64, 19, 345)        0                                            \n",
            "__________________________________________________________________________________________________\n",
            "encoder_gru (GRU)               [(64, 20, 96), (64,  85824       encoder_inputs[0][0]             \n",
            "__________________________________________________________________________________________________\n",
            "decoder_gru (GRU)               [(64, 19, 96), (64,  127296      decoder_inputs[0][0]             \n",
            "                                                                 encoder_gru[0][1]                \n",
            "__________________________________________________________________________________________________\n",
            "attention_layer (AttentionLayer [(64, 19, 96), (64,  18528       encoder_gru[0][0]                \n",
            "                                                                 decoder_gru[0][0]                \n",
            "__________________________________________________________________________________________________\n",
            "concat_layer (Concatenate)      (64, 19, 192)        0           decoder_gru[0][0]                \n",
            "                                                                 attention_layer[0][0]            \n",
            "__________________________________________________________________________________________________\n",
            "time_distributed_layer (TimeDis (64, 19, 345)        66585       concat_layer[0][0]               \n",
            "==================================================================================================\n",
            "Total params: 298,233\n",
            "Trainable params: 298,233\n",
            "Non-trainable params: 0\n",
            "__________________________________________________________________________________________________\n",
            "WARNING:tensorflow:From /usr/local/lib/python3.6/dist-packages/tensorflow/python/ops/math_ops.py:3066: to_int32 (from tensorflow.python.ops.math_ops) is deprecated and will be removed in a future version.\n",
            "Instructions for updating:\n",
            "Use tf.cast instead.\n",
            "Loss in epoch 1: 1.0930908068575718\n",
            "Loss in epoch 2: 0.1443378571277811\n",
            "Loss in epoch 3: 0.055368571416993605\n",
            "Loss in epoch 4: 0.03718056783876674\n",
            "Loss in epoch 5: 0.0282063650870016\n",
            "Loss in epoch 6: 0.02292077359176991\n",
            "Loss in epoch 7: 0.019243784660828822\n",
            "Loss in epoch 8: 0.016334909409410993\n",
            "Loss in epoch 9: 0.013879501781034045\n",
            "Loss in epoch 10: 0.011888029850529275\n",
            "Translating: the united states is sometimes chilly during december , but it is sometimes freezing in june .\n",
            "\n",
            "\tFrench: les états unis est parfois froid en décembre mais il est parfois le gel en juin eos \n"
          ],
          "name": "stdout"
        }
      ]
    },
    {
      "metadata": {
        "id": "GnXDkJN5_auY",
        "colab_type": "code",
        "colab": {}
      },
      "cell_type": "code",
      "source": [
        ""
      ],
      "execution_count": 0,
      "outputs": []
    }
  ]
}